{
 "cells": [
  {
   "cell_type": "code",
   "execution_count": null,
   "metadata": {},
   "outputs": [],
   "source": [
    "import pandas as pd\n",
    "import matplotlib.pyplot as plt\n",
    "import seaborn as sns\n",
    "import numpy as np\n",
    "import requests\n",
    "import yaml\n",
    "\n",
    "from pandas import CategoricalDtype\n",
    "from bs4 import BeautifulSoup\n",
    "from datetime import date\n",
    "from scipy import stats\n",
    "\n",
    "import sys\n",
    "import os\n",
    "\n",
    "config_path = r'../config/params.yml'\n",
    "config = yaml.load(open(config_path), Loader=yaml.FullLoader)\n",
    "\n",
    "data_path = config['train']['data_path']"
   ]
  },
  {
   "cell_type": "code",
   "execution_count": null,
   "metadata": {},
   "outputs": [],
   "source": [
    "config"
   ]
  },
  {
   "cell_type": "markdown",
   "metadata": {},
   "source": [
    "## Описание работы\n",
    "Проект использует данные по ключевой ставке Банка России для прогнозирования ее значений в будущем с помощью моделей Prophet и NeuralProphet. Основные шаги проекта:\n",
    "- Сбор исторических данных по ключевой ставке ЦБ РФ с официального сайта.\n",
    "- Предобработка данных: очистка, заполнение пропусков, преобразование в формат для моделей.\n",
    "- Разделение данных на обучающую и тестовую выборки.\n",
    "- Обучение моделей Prophet и NeuralProphet на обучающей выборке. Prophet использует аддитивную модель с трендом и сезонностью, NeuralProphet - нейросетевую модель с аналогичными компонентами.\n",
    "- Оценка качества моделей на тестовой выборке по метрикам RMSE, MAE, MAPE.\n",
    "- Использование лучшей модели для прогнозирования ключевой ставки на заданный горизонт в будущем.\n",
    "- Анализ полученных прогнозов, сравнение с фактическими данными и решениями ЦБ РФ по ставке\n",
    "- Обучение моделей Prophet и NeuralProphet на полной выборке и предсказание ставки на будущие периоды<br>\n",
    "\n",
    "Target - предсказание курса ключевой ставки ЦБ РФ\n",
    "-   date - дата\n",
    "-   key_rate - значение ключевой ставки ЦБ РФ"
   ]
  },
  {
   "cell_type": "markdown",
   "metadata": {},
   "source": [
    "# Parcing data"
   ]
  },
  {
   "cell_type": "code",
   "execution_count": null,
   "metadata": {},
   "outputs": [],
   "source": [
    "def get_dataset(config):\n",
    "    \"\"\"\n",
    "    Парсит ключевую ставку с URL сайта ЦБ РФ и возвращает pandas DataFrame.\n",
    "\n",
    "    Параметры:\n",
    "    config (dict): Словарь конфигурации, содержащий URL для парсинга.\n",
    "\n",
    "    Возвращает:\n",
    "    pd.DataFrame: DataFrame, содержащий спарсенные данные ключевой ставки.\n",
    "    \"\"\"\n",
    "    url = config['parcing'][\"URL\"] + date.today().strftime('%d.%m.%Y')\n",
    "    response = requests.get(url)\n",
    "    response.raise_for_status()\n",
    "\n",
    "    soup = BeautifulSoup(response.text, \"html.parser\")\n",
    "    table = soup.find_all(\"table\")\n",
    "\n",
    "    df = pd.read_html(str(table))[0]\n",
    "    df.iloc[:, 1:] /= 100\n",
    "    df['Дата'] = pd.to_datetime(df['Дата'], dayfirst=True)\n",
    "    df.columns = ['date', 'key_rate']\n",
    "\n",
    "    return df"
   ]
  },
  {
   "cell_type": "code",
   "execution_count": null,
   "metadata": {},
   "outputs": [],
   "source": [
    "# Парсинг ключевой ставки в df\n",
    "df = get_dataset(config)"
   ]
  },
  {
   "cell_type": "code",
   "execution_count": null,
   "metadata": {},
   "outputs": [],
   "source": [
    "# Общая информация о датафрейме\n",
    "df.info()"
   ]
  },
  {
   "cell_type": "code",
   "execution_count": null,
   "metadata": {},
   "outputs": [],
   "source": [
    "# Основные описательные статистики для числовых признаков\n",
    "df.iloc[:, 1:].describe()"
   ]
  },
  {
   "cell_type": "code",
   "execution_count": null,
   "metadata": {},
   "outputs": [],
   "source": [
    "# Смотрим график курса ключевой ствки ЦБ РФ и график распределения\n",
    "fig, ax = plt.subplots(1, 2, figsize=(15, 5))\n",
    "\n",
    "sns.set_theme(style=\"whitegrid\", palette=\"Accent\")\n",
    "\n",
    "sns.lineplot(x='date', y='key_rate', data=df, label='Ставка', ax=ax[0])\n",
    "ax[0].set_xlabel('График ставки рефинансирования РФ')\n",
    "ax[0].set_ylabel('Значение ставки')\n",
    "ax[0].legend(loc='best')\n",
    "ax[0].grid(True)\n",
    "\n",
    "sns.kdeplot(x=df['key_rate'], ax=ax[1], fill=True)\n",
    "ax[1].grid(True)\n",
    "ax[1].set_xlabel('График распределения ставки')\n",
    "ax[1].set_ylabel('Плотность вероятности')\n",
    "plt.show()"
   ]
  },
  {
   "cell_type": "markdown",
   "metadata": {},
   "source": [
    "# EDA"
   ]
  },
  {
   "cell_type": "code",
   "execution_count": null,
   "metadata": {},
   "outputs": [],
   "source": [
    "# Определение категориальных типов данных для дней недели и месяцев\n",
    "# cat_day = CategoricalDtype(categories=['Monday', 'Tuesday', 'Wednesday', 'Thursday', 'Friday', 'Saturday', 'Sunday'], ordered= True)\n",
    "# cat_month = CategoricalDtype(categories=['January', 'February', 'March', 'April', 'May', 'June', 'July', 'August', 'September', 'October', 'November', 'December'], ordered= True)\n",
    "\n",
    "def create_features(data, col_datetime):\n",
    "    \"\"\"\n",
    "    Создание новых признаков из столбца datetime в pandas DataFrame.\n",
    "\n",
    "    Параметры:\n",
    "    data (pd.DataFrame): Входной DataFrame\n",
    "    col_datetime (str): Имя столбца datetime\n",
    "\n",
    "    Возвращает:\n",
    "    pd.DataFrame: DataFrame с добавленными новыми признаками\n",
    "    \"\"\"\n",
    "    # Создание копии df\n",
    "    data = data.copy()\n",
    "\n",
    "    # Определение категориальных типов данных для дней недели и месяцев\n",
    "    cat_day = CategoricalDtype(categories=['Monday', 'Tuesday', 'Wednesday', 'Thursday', 'Friday', 'Saturday', 'Sunday'], ordered= True)\n",
    "    cat_month = CategoricalDtype(categories=['January', 'February', 'March', 'April', 'May', 'June', 'July', 'August', 'September', 'October', 'November', 'December'], ordered= True)\n",
    "\n",
    "    # Преобразование столбца datetime в формат datetime\n",
    "    data[col_datetime] = pd.to_datetime(data[col_datetime])\n",
    "\n",
    "    # Создание новых признаков\n",
    "    data['weekday'] = data[col_datetime].dt.day_name().astype(cat_day)  # День недели\n",
    "    data['month'] = data[col_datetime].dt.month_name().astype(cat_month)  # Месяц года\n",
    "    data['year'] = data[col_datetime].dt.year  # Год\n",
    "    data['quarter'] = data[col_datetime].dt.quarter  # Квартал года\n",
    "    data['date_offset'] = (data[col_datetime].dt.month * 100 + data[col_datetime].dt.day - 320) % 1300  # Пользовательский признак смещения даты\n",
    "    data['season'] = data[col_datetime].dt.month.map({1: 'Winter', 2: 'Winter', 3: 'Spring', 4: 'Spring', 5: 'Spring', 6: 'Summer', 7: 'Summer', 8: 'Summer', 9: 'Autumn', 10: 'Autumn', 11: 'Autumn', 12: 'Winter'})  # Сезон года\n",
    "\n",
    "    return data"
   ]
  },
  {
   "cell_type": "code",
   "execution_count": null,
   "metadata": {},
   "outputs": [],
   "source": [
    "# Создание признаков\n",
    "df_features = create_features(data=df, col_datetime='date')"
   ]
  },
  {
   "cell_type": "code",
   "execution_count": null,
   "metadata": {},
   "outputs": [],
   "source": [
    "def plot_features(df_features):\n",
    "    \"\"\"\n",
    "    Создает два графика для анализа ключевой ставки:\n",
    "    1. Бары максимальных значений ставки по годам.\n",
    "    2. Боксплот распределения ставки по дням недели и сезонам.\n",
    "\n",
    "    Параметры:\n",
    "    df_features (pd.DataFrame): DataFrame, содержащий данные о ключевой ставке, днях недели, сезоны.\n",
    "\n",
    "    Возвращает:\n",
    "    Два графика\n",
    "    \"\"\"\n",
    "    fig, ax = plt.subplots(1, 2, figsize=(15, 5))\n",
    "\n",
    "    year_group = pd.DataFrame(df_features.groupby('year')['key_rate'].max()).reset_index().sort_values('key_rate')\n",
    "\n",
    "    sns.barplot(data=year_group, x='year', y='key_rate', ax=ax[0])\n",
    "    ax[0].set_xlabel('Год')\n",
    "    ax[0].set_ylabel('Значение ставки')\n",
    "\n",
    "    sns.boxplot(data=df_features, x='weekday', y='key_rate', hue='season', ax=ax[1], linewidth=2)\n",
    "    ax[1].set_xlabel('День недели')\n",
    "    ax[1].set_ylabel('Значение ставки')\n",
    "\n",
    "    plt.show()"
   ]
  },
  {
   "cell_type": "code",
   "execution_count": null,
   "metadata": {},
   "outputs": [],
   "source": [
    "plot_features(df_features)"
   ]
  },
  {
   "cell_type": "markdown",
   "metadata": {},
   "source": [
    "## Дропаем редкие субботние ставки"
   ]
  },
  {
   "cell_type": "code",
   "execution_count": null,
   "metadata": {},
   "outputs": [],
   "source": [
    "# Дропаем редкие субботние ключевые ставки\n",
    "drop_trash = df_features[(df_features.weekday == 'Saturday')].index\n",
    "df = df[~df.index.isin(drop_trash)]\n",
    "df = df.reset_index(drop=True)"
   ]
  },
  {
   "cell_type": "markdown",
   "metadata": {},
   "source": [
    "Смотрим график после дропа суббот"
   ]
  },
  {
   "cell_type": "code",
   "execution_count": null,
   "metadata": {},
   "outputs": [],
   "source": [
    "# Создаем df с признаками после дропа суббот\n",
    "df_features = create_features(data=df, col_datetime='date')"
   ]
  },
  {
   "cell_type": "code",
   "execution_count": null,
   "metadata": {},
   "outputs": [],
   "source": [
    "# Смотрим графики для анализа после дропа суббот\n",
    "plot_features(df_features)"
   ]
  },
  {
   "cell_type": "markdown",
   "metadata": {},
   "source": [
    "## Поиск и удаление статистических выбросов"
   ]
  },
  {
   "cell_type": "markdown",
   "metadata": {},
   "source": [
    "## Определение выбросов при помощи IQR"
   ]
  },
  {
   "cell_type": "code",
   "execution_count": null,
   "metadata": {},
   "outputs": [],
   "source": [
    "# Определение последней даты, для заполнения графика интерполяцией\n",
    "last_date = df['date'].max()\n",
    "\n",
    "# Настройка фильтрации данных до последней даты\n",
    "mask = df['date'] < last_date\n",
    "\n",
    "# Вычисление межквартильного размаха (IQR)\n",
    "q1, q3 = df.loc[mask, 'key_rate'].quantile([0.25, 0.75])\n",
    "iqr = q3 - q1\n",
    "\n",
    "# Определение границ для выбросов\n",
    "lower_bound = q1 - 1.5 * iqr\n",
    "upper_bound = q3 + 1.5 * iqr\n",
    "\n",
    "# Замена выбросов на NaN для подсчёта выбросов\n",
    "df_filtered = df.copy()\n",
    "df_filtered.loc[(df_filtered['key_rate'] < lower_bound) & mask, 'key_rate'] = np.nan\n",
    "df_filtered.loc[(df_filtered['key_rate'] > upper_bound) & mask, 'key_rate'] = np.nan\n",
    "\n",
    "# Считаем количество статистических выбросов\n",
    "print(df_filtered['key_rate'].isna().sum())"
   ]
  },
  {
   "cell_type": "code",
   "execution_count": null,
   "metadata": {},
   "outputs": [],
   "source": [
    "def plot_interpolate(df, df_filtered):\n",
    "    \"\"\"\n",
    "    Визуализация оригинальных и отфильтрованных данных ключевой ставки.\n",
    "\n",
    "    Параметры:\n",
    "    df (pandas.DataFrame): Оригинальные данные ключевой ставки.\n",
    "    df_filtered (pandas.DataFrame): Отфильтрованные данные ключевой ставки.\n",
    "    \"\"\"\n",
    "    fig, ax = plt.subplots(figsize=(15, 5))\n",
    "    sns.set_theme(style=\"whitegrid\", palette=\"Accent\")\n",
    "\n",
    "    sns.lineplot(x='date', y='key_rate', data=df, label='Оригинальные данные', ax=ax)\n",
    "    sns.lineplot(x='date', y='key_rate', data=df_filtered, label='Отфильтрованные данные', ax=ax)\n",
    "\n",
    "    ax.set_xlabel('Год')\n",
    "    ax.set_ylabel('Значение ставки')\n",
    "    ax.set_title('Визуализация после вычисления выбросов')\n",
    "    ax.legend(loc='best')\n",
    "    ax.grid(True)\n",
    "\n",
    "    plt.show()"
   ]
  },
  {
   "cell_type": "code",
   "execution_count": null,
   "metadata": {},
   "outputs": [],
   "source": [
    "# Визуализация после вычисления и удаления выбросов\n",
    "plot_interpolate(df, df_filtered)"
   ]
  },
  {
   "cell_type": "code",
   "execution_count": null,
   "metadata": {},
   "outputs": [],
   "source": [
    "# Интерполируем пропущенные значения\n",
    "df_filtered['key_rate'] = df_filtered['key_rate'].interpolate(method='nearest', order=3)\n",
    "\n",
    "# Считаем количество статистических выбросов после интерполяции\n",
    "print(df_filtered['key_rate'].isna().sum())"
   ]
  },
  {
   "cell_type": "code",
   "execution_count": null,
   "metadata": {},
   "outputs": [],
   "source": [
    "# Создаем df с признаками после замены статистических выбросов интерполяцией\n",
    "df_features = create_features(data=df_filtered, col_datetime='date')"
   ]
  },
  {
   "cell_type": "code",
   "execution_count": null,
   "metadata": {},
   "outputs": [],
   "source": [
    "# Смотрим графики после замены статистических выбросов интерполяцией\n",
    "plot_features(df_features)"
   ]
  },
  {
   "cell_type": "code",
   "execution_count": null,
   "metadata": {},
   "outputs": [],
   "source": [
    "# Смотрим график после замены выбросов интерполяцией пропущенных значений\n",
    "plot_interpolate(df, df_filtered)"
   ]
  },
  {
   "cell_type": "code",
   "execution_count": null,
   "metadata": {},
   "outputs": [],
   "source": [
    "# сохранение отфилтрованных данных в df\n",
    "df = df_filtered\n",
    "\n",
    "# Перенаименование названия колонок для prophet\n",
    "df.columns = ['ds', 'y']\n",
    "\n",
    "# Период, который надо отрезать и предсказать (проверка модели)\n",
    "pred_days = int(df.shape[0]*config['parcing']['pred_days'])\n"
   ]
  },
  {
   "cell_type": "code",
   "execution_count": null,
   "metadata": {},
   "outputs": [],
   "source": [
    "# Сортируем данные по возрастанию для корректного отображения разделения графика\n",
    "df = df.sort_values('ds')\n",
    "df = df.reset_index(drop=True)"
   ]
  },
  {
   "cell_type": "code",
   "execution_count": null,
   "metadata": {},
   "outputs": [],
   "source": [
    "# Разделение данных на train, test\n",
    "df_train = df[:-pred_days]\n",
    "df_test = df[-pred_days:]\n"
   ]
  },
  {
   "cell_type": "code",
   "execution_count": null,
   "metadata": {},
   "outputs": [],
   "source": [
    "# Отображаем график с разделением train, test для наглядности\n",
    "fig, ax = plt.subplots(figsize = (10, 5))\n",
    "\n",
    "fig.set_figheight(5)\n",
    "fig.set_figwidth(15)\n",
    "df_train.set_index('ds').plot(ax=ax, label= 'train', title='Визуальное разделение на тестовые и тренировочные данные')\n",
    "df_test.set_index('ds').plot(ax=ax, label='test')\n",
    "ax.axvline(df_train['ds'][-1:].values, ls='--', color='black')\n",
    "ax.legend(['df_train', 'df_test'])\n",
    "ax.set_ylabel('Значение ставки')\n",
    "ax.set_xlabel('Год')\n",
    "plt.show()"
   ]
  },
  {
   "cell_type": "markdown",
   "metadata": {},
   "source": [
    "# Сохранение датасета"
   ]
  },
  {
   "cell_type": "code",
   "execution_count": null,
   "metadata": {},
   "outputs": [],
   "source": [
    "# Сохранение DataFrame df в файл data/df.csv\n",
    "df.to_csv(f'{data_path}/df.csv', index=False)\n",
    "#df.to_csv('../data/df.csv', index=False)\n",
    "\n",
    "# Сохранение DataFrame df_train в файл data/df_train.csv\n",
    "df_train.to_csv(f'{data_path}/df_train.csv', index=False)\n",
    "\n",
    "# Сохранение DataFrame df_test в файл data/df_test.csv\n",
    "df_test.to_csv(f'{data_path}/df_test.csv', index=False)\n"
   ]
  }
 ],
 "metadata": {
  "kernelspec": {
   "display_name": "Python 3",
   "language": "python",
   "name": "python3"
  },
  "language_info": {
   "codemirror_mode": {
    "name": "ipython",
    "version": 3
   },
   "file_extension": ".py",
   "mimetype": "text/x-python",
   "name": "python",
   "nbconvert_exporter": "python",
   "pygments_lexer": "ipython3",
   "version": "3.11.9"
  }
 },
 "nbformat": 4,
 "nbformat_minor": 2
}
