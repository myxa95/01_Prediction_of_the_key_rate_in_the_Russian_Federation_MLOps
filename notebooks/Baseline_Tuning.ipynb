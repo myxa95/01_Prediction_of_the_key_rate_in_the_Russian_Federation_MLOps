{
 "cells": [
  {
   "cell_type": "code",
   "execution_count": null,
   "metadata": {},
   "outputs": [],
   "source": [
    "import pandas as pd\n",
    "import plotly\n",
    "import matplotlib.pyplot as plt\n",
    "import seaborn as sns\n",
    "import numpy as np\n",
    "import holidays\n",
    "\n",
    "from neuralprophet import NeuralProphet\n",
    "from prophet import Prophet\n",
    "from prophet.serialize import model_to_json\n",
    "from sklearn.model_selection import ParameterGrid\n",
    "from tqdm import tqdm\n",
    "\n",
    "import sys\n",
    "import os\n",
    "\n",
    "backend_path = os.path.abspath('../backend')\n",
    "sys.path.append(backend_path)\n",
    "from get_metrics import get_metrics\n",
    "\n",
    "# Количество предсказанных дней\n",
    "pred_days_forecast = 180"
   ]
  },
  {
   "cell_type": "code",
   "execution_count": null,
   "metadata": {},
   "outputs": [],
   "source": [
    "# Чтение DataFrame df в файл data/df.csv\n",
    "df = pd.read_csv('../data/df.csv')\n",
    "\n",
    "# Чтение DataFrame df_train в файл data/df_train.csv\n",
    "df_train = pd.read_csv('../data/df_train.csv')\n",
    "\n",
    "# Чтение DataFrame df_test в файл data/df_test.csv\n",
    "df_test = pd.read_csv('../data/df_test.csv')"
   ]
  },
  {
   "cell_type": "code",
   "execution_count": null,
   "metadata": {},
   "outputs": [],
   "source": [
    "# Преобразование столбца ds в формат datetime\n",
    "df['ds'] = pd.to_datetime(df['ds'], format='%Y-%m-%d', dayfirst=True)\n",
    "df_train['ds'] = pd.to_datetime(df_train['ds'], format='%Y-%m-%d', dayfirst=True)\n",
    "df_test['ds'] = pd.to_datetime(df_test['ds'], format='%Y-%m-%d', dayfirst=True)"
   ]
  },
  {
   "cell_type": "code",
   "execution_count": null,
   "metadata": {},
   "outputs": [],
   "source": [
    "# Отображаем график с разделением train, test для наглядности\n",
    "fig, ax = plt.subplots(figsize = (10, 5))\n",
    "\n",
    "sns.set_theme(style=\"whitegrid\", palette=\"Accent\")\n",
    "\n",
    "fig.set_figheight(5)\n",
    "fig.set_figwidth(15)\n",
    "df_train.set_index('ds').plot(ax=ax, label= 'train', title='Визуальное разделение на тестовые и тренировочные данные')\n",
    "df_test.set_index('ds').plot(ax=ax, label='test')\n",
    "ax.axvline(df_train['ds'][-1:].values, ls='--', color='black')\n",
    "ax.legend(['df_train', 'df_test'])\n",
    "ax.set_ylabel('Значение ставки')\n",
    "ax.set_xlabel('Год')\n",
    "plt.show()"
   ]
  },
  {
   "cell_type": "markdown",
   "metadata": {},
   "source": [
    "# Baseline Prophet on df_train для проверки модели"
   ]
  },
  {
   "cell_type": "code",
   "execution_count": null,
   "metadata": {},
   "outputs": [],
   "source": [
    "# Обучение модели на train\n",
    "model_baseline = Prophet()\n",
    "model_baseline.fit(df_train)"
   ]
  },
  {
   "cell_type": "code",
   "execution_count": null,
   "metadata": {},
   "outputs": [],
   "source": [
    "# Период, который надо отрезать и предсказать (проверка модели)\n",
    "pred_days = int(df.shape[0]*0.15)"
   ]
  },
  {
   "cell_type": "code",
   "execution_count": null,
   "metadata": {},
   "outputs": [],
   "source": [
    "# Создание df с прогнозом\n",
    "future = model_baseline.make_future_dataframe(periods=pred_days, freq='D')\n",
    "forecast = model_baseline.predict(future)\n",
    "forecast[['ds', 'yhat', 'yhat_lower', 'yhat_upper']].tail()"
   ]
  },
  {
   "cell_type": "code",
   "execution_count": null,
   "metadata": {},
   "outputs": [],
   "source": [
    "# Смотрим график прогноза\n",
    "fig, ax = plt.subplots(1)\n",
    "fig.set_figheight(5)\n",
    "fig.set_figwidth(15)\n",
    "fig = model_baseline.plot(forecast,ax=ax)\n",
    "plt.show()"
   ]
  },
  {
   "cell_type": "code",
   "execution_count": null,
   "metadata": {},
   "outputs": [],
   "source": [
    "# Смотрим тренд, годовые и сезонные признаки\n",
    "fig = model_baseline.plot_components(forecast)\n",
    "plt.show()"
   ]
  },
  {
   "cell_type": "markdown",
   "metadata": {},
   "source": [
    "## Сравнение фактов и прогнозов"
   ]
  },
  {
   "cell_type": "code",
   "execution_count": null,
   "metadata": {},
   "outputs": [],
   "source": [
    "# Создание df с прогнозом\n",
    "df_test_forecast = model_baseline.predict(df_test)\n",
    "df_test_forecast[['ds', 'yhat', 'yhat_lower', 'yhat_upper']].tail()"
   ]
  },
  {
   "cell_type": "code",
   "execution_count": null,
   "metadata": {},
   "outputs": [],
   "source": [
    "# Смотрим совпадение фактического курса с предсказанным курсом prophet baseline обученным на train\n",
    "fig, ax = plt.subplots(figsize= (10, 5))\n",
    "\n",
    "fig.set_figheight(5)\n",
    "fig.set_figwidth(15)\n",
    "predict = model_baseline.predict(df_test)\n",
    "fig = model_baseline.plot(predict, ax=ax)\n",
    "ax.scatter(df_test.ds, df_test['y'], color = 'g')\n",
    "ax.set_title('Прогноз ключевой ставки, Prophet Baseline')\n",
    "ax.set_ylabel('Значение ставки')\n",
    "ax.set_xlabel('Год')\n",
    "plt.show()"
   ]
  },
  {
   "cell_type": "code",
   "execution_count": null,
   "metadata": {},
   "outputs": [],
   "source": [
    "# Сравнение участка df_test с предсказанием prophet baseline\n",
    "fig, ax = plt.subplots(figsize=(14,5))\n",
    "fig.set_figheight(5)\n",
    "fig.set_figwidth(15)\n",
    "df_test.plot(kind='line',x='ds', y='y', color='red', label='Test', ax=ax)\n",
    "df_test_forecast.plot(kind='line',x='ds',y='yhat', color='green',label='Forecast', ax=ax)\n",
    "plt.title('Сравнение участка df_test с предсказанием prophet baseline')\n",
    "plt.show()"
   ]
  },
  {
   "cell_type": "code",
   "execution_count": null,
   "metadata": {},
   "outputs": [],
   "source": [
    "# Просмотр метрик модели обученной на train\n",
    "metrics = get_metrics(y_test=df_test['y'], y_pred=df_test_forecast['yhat'], name='Prophet_baseline')\n",
    "metrics"
   ]
  },
  {
   "cell_type": "markdown",
   "metadata": {},
   "source": [
    "Из приведенного выше графика мы видим, что существует разрыв в прогнозах и фактических данных. Поэтому нам нужно оптимизировать модель, добавив другие параметры, напрмиер, такие как праздники"
   ]
  },
  {
   "cell_type": "markdown",
   "metadata": {},
   "source": [
    "# Prophet with holidays"
   ]
  },
  {
   "cell_type": "code",
   "execution_count": null,
   "metadata": {},
   "outputs": [],
   "source": [
    "# Создаем df праздников в РФ начиная с 2013 по сегодня\n",
    "holiday = pd.DataFrame([])\n",
    "for date, name in sorted(holidays.Russia(years=[2013,2014,2015,2016,2017,2018,2019,2020,2021,2022,2023,2024]).items()):\n",
    "    new_row = pd.DataFrame({'ds': date, 'holiday': \"RU-Holidays\"}, index=[0])\n",
    "    holiday = pd.concat([holiday, new_row], ignore_index=True)  \n",
    "\n",
    "holiday['ds'] = pd.to_datetime(holiday['ds'], format='%Y-%m-%d', errors='ignore')"
   ]
  },
  {
   "cell_type": "code",
   "execution_count": null,
   "metadata": {},
   "outputs": [],
   "source": [
    "# Тренировка модели с праздниками\n",
    "model_with_holidays = Prophet(holidays=holiday)\n",
    "model_with_holidays.fit(df_train)"
   ]
  },
  {
   "cell_type": "code",
   "execution_count": null,
   "metadata": {},
   "outputs": [],
   "source": [
    "# Создание df с прогнозом\n",
    "future = model_with_holidays.make_future_dataframe(periods=pred_days, freq='D')\n",
    "forecast = model_with_holidays.predict(future)\n",
    "forecast[['ds', 'yhat', 'yhat_lower', 'yhat_upper']].tail()"
   ]
  },
  {
   "cell_type": "code",
   "execution_count": null,
   "metadata": {},
   "outputs": [],
   "source": [
    "# Смотрим график прогноза с праздниками\n",
    "fig, ax = plt.subplots(1)\n",
    "fig.set_figheight(5)\n",
    "fig.set_figwidth(15)\n",
    "fig = model_with_holidays.plot(forecast,ax=ax)\n",
    "plt.show()"
   ]
  },
  {
   "cell_type": "code",
   "execution_count": null,
   "metadata": {},
   "outputs": [],
   "source": [
    "# Смотрим тренд, годовые и сезонные признаки обученной модели с праздниками\n",
    "fig = model_with_holidays.plot_components(forecast)\n",
    "plt.show()"
   ]
  },
  {
   "cell_type": "markdown",
   "metadata": {},
   "source": [
    "## Сравнение фактов и прогнозов"
   ]
  },
  {
   "cell_type": "code",
   "execution_count": null,
   "metadata": {},
   "outputs": [],
   "source": [
    "# Создание df с прогнозом\n",
    "df_test_forecast_holiday = model_with_holidays.predict(df_test)\n",
    "df_test_forecast_holiday[['ds', 'yhat', 'yhat_lower', 'yhat_upper']].tail()"
   ]
  },
  {
   "cell_type": "code",
   "execution_count": null,
   "metadata": {},
   "outputs": [],
   "source": [
    "# Сравнение участка df_test с предсказанием prophet_with_holidays\n",
    "fig, ax = plt.subplots(figsize=(14,5))\n",
    "fig.set_figheight(5)\n",
    "fig.set_figwidth(15)\n",
    "df_test.plot(kind='line',x='ds', y='y', color='red', label='Test', ax=ax)\n",
    "df_test_forecast_holiday.plot(kind='line',x='ds',y='yhat', color='green',label='Forecast', ax=ax)\n",
    "plt.title('Сравнение участка df_test с предсказанием prophet с праздниками')\n",
    "plt.show()"
   ]
  },
  {
   "cell_type": "code",
   "execution_count": null,
   "metadata": {},
   "outputs": [],
   "source": [
    "# Сравниваем метрики после добавления в модель праздников \n",
    "metrics = pd.concat([metrics, get_metrics(y_test=df_test['y'], y_pred=df_test_forecast_holiday['yhat'], name='Prophet_with_holidays')])\n",
    "metrics"
   ]
  },
  {
   "cell_type": "markdown",
   "metadata": {},
   "source": [
    "Из метрик и графиков видим, что модель с праздниками показывает результаты немного изменились."
   ]
  },
  {
   "cell_type": "markdown",
   "metadata": {},
   "source": [
    "# Тюнинг тест модели"
   ]
  },
  {
   "cell_type": "code",
   "execution_count": null,
   "metadata": {},
   "outputs": [],
   "source": [
    "# Создание сетки параметров и подсчёт количества вариаций обучения\n",
    "params_grid = {\n",
    "    'changepoint_prior_scale': [0.001, 0.002, 0.003, 0.004, 0.005, 0.006, 0.007, 0.008, 0.009, 0.01, 0.02, 0.03, 0.04, 0.05, 0.06, 0.07, 0.08, 0.09, 0.1, 0.3, 0.5],\n",
    "    'seasonality_prior_scale': [0.01, 0.1, 1, 10], \n",
    "    'holidays_prior_scale': [0.01, 0.1, 1, 10],\n",
    "    'seasonality_mode': ('multiplicative','additive')\n",
    "}\n",
    "grid = ParameterGrid(params_grid)\n",
    "cnt = 0\n",
    "for p in grid:\n",
    "    cnt = cnt + 1\n",
    "\n",
    "print('Количество моделей для обучения по сетке:', cnt)"
   ]
  },
  {
   "cell_type": "code",
   "execution_count": null,
   "metadata": {},
   "outputs": [],
   "source": [
    "\"\"\"Обучение тестовой модели по сетке параметров на df_train\"\"\"\n",
    "# Создаем пустой DataFrame для сохранения метрик и параметров\n",
    "model_grid_metrics = pd.DataFrame()\n",
    "model_grid_parameters = pd.DataFrame(columns = ['Parameters'])\n",
    "\n",
    "# Проходимся по сетке гиперпараметров\n",
    "for p in tqdm(grid):\n",
    "    \n",
    "    # Обучаем Prophet по сетке гиперпараметров\n",
    "    model_grid = Prophet(\n",
    "        changepoint_prior_scale = p['changepoint_prior_scale'],\n",
    "        seasonality_prior_scale = p['seasonality_prior_scale'],\n",
    "        holidays_prior_scale = p['holidays_prior_scale'],\n",
    "        seasonality_mode = p['seasonality_mode'],\n",
    "        #changepoint_range = p['changepoint_range'],\n",
    "        #holidays=holiday,\n",
    "    )\n",
    "\n",
    "    # Добавляем праздники в модель\n",
    "    #model_grid.add_country_holidays(country_name='RU')\n",
    "\n",
    "    # Обучаем модель\n",
    "    model_grid.fit(df_train)\n",
    "\n",
    "    # Создаем фрейм данных для предсказаний\n",
    "    model_grid_future = model_grid.make_future_dataframe(periods=pred_days, freq='D', include_history=False)\n",
    "\n",
    "    # Делаем предсказания\n",
    "    model_grid_forecast = model_grid.predict(model_grid_future)\n",
    "\n",
    "    # Вычисляем метрики и добавляем новую строку в df\n",
    "    model_grid_metrics = pd.concat([model_grid_metrics, get_metrics(y_test=df_test['y'], y_pred=model_grid_forecast['yhat'], name='Prophet_with_grid ')])\n",
    "    model_grid_parameters = pd.concat([model_grid_parameters, pd.DataFrame({'Parameters': [p]})], ignore_index=True)\n"
   ]
  },
  {
   "cell_type": "code",
   "execution_count": null,
   "metadata": {},
   "outputs": [],
   "source": [
    "# Сброс индексов для будущего объединения с df параметров сетки\n",
    "model_grid_metrics = model_grid_metrics.reset_index(drop=True)"
   ]
  },
  {
   "cell_type": "code",
   "execution_count": null,
   "metadata": {},
   "outputs": [],
   "source": [
    "# Объединение DataFrame по столбцам\n",
    "metrics_parameters_with_grid = pd.concat([model_grid_metrics, model_grid_parameters], axis=1)\n",
    "metrics_parameters_with_grid"
   ]
  },
  {
   "cell_type": "code",
   "execution_count": null,
   "metadata": {},
   "outputs": [],
   "source": [
    "# Сортировка по метрике\n",
    "metrics_parameters_with_grid = metrics_parameters_with_grid.sort_values(by=['MAE'])\n",
    "metrics_parameters_with_grid = metrics_parameters_with_grid.reset_index(drop=True)\n",
    "metrics_parameters_with_grid.head()"
   ]
  },
  {
   "cell_type": "markdown",
   "metadata": {},
   "source": [
    "## Лучшие параметры после обучения по сетке"
   ]
  },
  {
   "cell_type": "code",
   "execution_count": null,
   "metadata": {},
   "outputs": [],
   "source": [
    "# Сохранение в переменную лучших параметров после обучения по сетке\n",
    "best_params = metrics_parameters_with_grid['Parameters'][0]\n",
    "\n",
    "# Просмотр лучших параметров\n",
    "best_params"
   ]
  },
  {
   "cell_type": "code",
   "execution_count": null,
   "metadata": {},
   "outputs": [],
   "source": [
    "# Обучение модели на лучших параметрах\n",
    "final_test_model = Prophet(**best_params)\n",
    "final_test_model.fit(df_train)"
   ]
  },
  {
   "cell_type": "code",
   "execution_count": null,
   "metadata": {},
   "outputs": [],
   "source": [
    "# Создание df с прогнозом\n",
    "future = final_test_model.make_future_dataframe(periods=pred_days, freq='D')\n",
    "forecast = final_test_model.predict(future)\n",
    "forecast[['ds', 'yhat', 'yhat_lower', 'yhat_upper']].tail()"
   ]
  },
  {
   "cell_type": "code",
   "execution_count": null,
   "metadata": {},
   "outputs": [],
   "source": [
    "# Смотрим тренд, годовые и сезонные признаки\n",
    "fig = final_test_model.plot_components(forecast)"
   ]
  },
  {
   "cell_type": "code",
   "execution_count": null,
   "metadata": {},
   "outputs": [],
   "source": [
    "# Смотрим график прогноза после обучния на лучших параметрах\n",
    "fig, ax = plt.subplots(1)\n",
    "fig.set_figheight(5)\n",
    "fig.set_figwidth(15)\n",
    "fig = final_test_model.plot(forecast,ax=ax)\n",
    "plt.show()"
   ]
  },
  {
   "cell_type": "markdown",
   "metadata": {},
   "source": [
    "## Сравнение фактов и прогнозов"
   ]
  },
  {
   "cell_type": "code",
   "execution_count": null,
   "metadata": {},
   "outputs": [],
   "source": [
    "# Создание df с прогнозом\n",
    "df_test_forecast_final = final_test_model.predict(df_test)\n",
    "df_test_forecast_final[['ds', 'yhat', 'yhat_lower', 'yhat_upper']].tail()"
   ]
  },
  {
   "cell_type": "code",
   "execution_count": null,
   "metadata": {},
   "outputs": [],
   "source": [
    "# Сравнение участка df_test с предсказанием prophet grid\n",
    "fig, ax = plt.subplots(figsize=(14,5))\n",
    "fig.set_figheight(5)\n",
    "fig.set_figwidth(15)\n",
    "df_test.plot(kind='line',x='ds', y='y', color='red', label='Test', ax=ax)\n",
    "df_test_forecast_final.plot(kind='line',x='ds',y='yhat', color='green',label='Forecast', ax=ax)\n",
    "plt.title('Сравнение участка df_test с предсказанием prophet grid')\n",
    "plt.show()"
   ]
  },
  {
   "cell_type": "code",
   "execution_count": null,
   "metadata": {},
   "outputs": [],
   "source": [
    "# Сравниваем метрики после добавления в модель праздников \n",
    "metrics = pd.concat([metrics, get_metrics(y_test=df_test['y'], y_pred=df_test_forecast_final['yhat'], name='Prophet_with_grid')])\n",
    "metrics"
   ]
  },
  {
   "cell_type": "code",
   "execution_count": null,
   "metadata": {},
   "outputs": [],
   "source": [
    "# Сохранение модели в JSON файл\n",
    "with open('../models/final_test_model.json', 'w') as fout:\n",
    "    fout.write(model_to_json(final_test_model))"
   ]
  },
  {
   "cell_type": "markdown",
   "metadata": {},
   "source": [
    "# Baseline NeuralProphet on df_train для проверки модели"
   ]
  },
  {
   "cell_type": "code",
   "execution_count": null,
   "metadata": {},
   "outputs": [],
   "source": [
    "# Обучение модели на df\n",
    "NeuralProphet_bl = NeuralProphet()\n",
    "NeuralProphet_bl.set_plotting_backend(\"plotly-static\")\n",
    "metricsnp = NeuralProphet_bl.fit(df_train)"
   ]
  },
  {
   "cell_type": "code",
   "execution_count": null,
   "metadata": {},
   "outputs": [],
   "source": [
    "# Создание df с прогнозом\n",
    "future_np_bl = NeuralProphet_bl.make_future_dataframe(df_train, periods = pred_days, n_historic_predictions = True)\n",
    "forecast_np_bl = NeuralProphet_bl.predict(df_test)\n",
    "forecast_np_bl.tail()"
   ]
  },
  {
   "cell_type": "code",
   "execution_count": null,
   "metadata": {},
   "outputs": [],
   "source": [
    "# Смотрим тренд, годовые и сезонные признаки\n",
    "NeuralProphet_bl.plot_components(forecast_np_bl, plotting_backend=\"matplotlib\")"
   ]
  },
  {
   "cell_type": "code",
   "execution_count": null,
   "metadata": {},
   "outputs": [],
   "source": [
    "# Смотрим график прогноза после обучения\n",
    "fig = NeuralProphet_bl.plot(forecast_np_bl, ax=ax, plotting_backend=\"matplotlib\")"
   ]
  },
  {
   "cell_type": "code",
   "execution_count": null,
   "metadata": {},
   "outputs": [],
   "source": [
    "# Сравнение участка df_test с предсказанием prophet grid\n",
    "fig, ax = plt.subplots(figsize=(14,5))\n",
    "fig.set_figheight(5)\n",
    "fig.set_figwidth(15)\n",
    "df_test.plot(kind='line',x='ds', y='y', color='red', label='Test', ax=ax)\n",
    "forecast_np_bl.plot(kind='line',x='ds',y='yhat1', color='green',label='Forecast', ax=ax)\n",
    "plt.title('Сравнение участка df_test с предсказанием NeuralProphet')\n",
    "plt.show()"
   ]
  },
  {
   "cell_type": "code",
   "execution_count": null,
   "metadata": {},
   "outputs": [],
   "source": [
    "# Сравниваем метрики после добавления NeuralProphet\n",
    "metrics = pd.concat([metrics, get_metrics(y_test=df_test['y'], y_pred=forecast_np_bl['yhat1'], name='NeuralProphet')])\n",
    "metrics"
   ]
  },
  {
   "cell_type": "markdown",
   "metadata": {},
   "source": [
    "# Обучение и прогнозирование курса ставки рефинансирования ЦБ РФ на полных данных"
   ]
  },
  {
   "cell_type": "markdown",
   "metadata": {},
   "source": [
    "# Prophet baseline on df"
   ]
  },
  {
   "cell_type": "code",
   "execution_count": null,
   "metadata": {},
   "outputs": [],
   "source": [
    "# Обучение модели на df\n",
    "prophet_bl = Prophet()\n",
    "prophet_bl.fit(df)"
   ]
  },
  {
   "cell_type": "code",
   "execution_count": null,
   "metadata": {},
   "outputs": [],
   "source": [
    "# Создание df с прогнозом\n",
    "future_bl = prophet_bl.make_future_dataframe(periods=pred_days_forecast, freq='D')\n",
    "forecast_bl = prophet_bl.predict(future_bl)\n",
    "forecast_bl[['ds', 'yhat', 'yhat_lower', 'yhat_upper']].tail()"
   ]
  },
  {
   "cell_type": "code",
   "execution_count": null,
   "metadata": {},
   "outputs": [],
   "source": [
    "# Смотрим график прогноза\n",
    "fig, ax = plt.subplots(1)\n",
    "fig.set_figheight(5)\n",
    "fig.set_figwidth(15)\n",
    "fig = prophet_bl.plot(forecast_bl,ax=ax)\n",
    "plt.show()"
   ]
  },
  {
   "cell_type": "code",
   "execution_count": null,
   "metadata": {},
   "outputs": [],
   "source": [
    "# Смотрим тренд, годовые и сезонные признаки\n",
    "fig = prophet_bl.plot_components(forecast_bl)\n",
    "plt.show()"
   ]
  },
  {
   "cell_type": "markdown",
   "metadata": {},
   "source": [
    "# Prophet best params on df"
   ]
  },
  {
   "cell_type": "code",
   "execution_count": null,
   "metadata": {},
   "outputs": [],
   "source": [
    "# Обучение модели на df\n",
    "final_test_model = Prophet()\n",
    "final_test_model.fit(df)"
   ]
  },
  {
   "cell_type": "code",
   "execution_count": null,
   "metadata": {},
   "outputs": [],
   "source": [
    "# Создание df с прогнозом\n",
    "future_ftm = final_test_model.make_future_dataframe(periods=pred_days_forecast, freq='D')\n",
    "forecast_ftm = final_test_model.predict(future_ftm)\n",
    "forecast_ftm[['ds', 'yhat', 'yhat_lower', 'yhat_upper']].tail()"
   ]
  },
  {
   "cell_type": "code",
   "execution_count": null,
   "metadata": {},
   "outputs": [],
   "source": [
    "# Смотрим график прогноза\n",
    "fig, ax = plt.subplots(1)\n",
    "fig.set_figheight(5)\n",
    "fig.set_figwidth(15)\n",
    "fig = final_test_model.plot(forecast_ftm,ax=ax)\n",
    "plt.show()"
   ]
  },
  {
   "cell_type": "code",
   "execution_count": null,
   "metadata": {},
   "outputs": [],
   "source": [
    "# Смотрим тренд, годовые и сезонные признаки\n",
    "fig = prophet_bl.plot_components(forecast_ftm)\n",
    "plt.show()"
   ]
  },
  {
   "cell_type": "markdown",
   "metadata": {},
   "source": [
    "# NeuralProphet on df"
   ]
  },
  {
   "cell_type": "code",
   "execution_count": null,
   "metadata": {},
   "outputs": [],
   "source": [
    "# Обучение модели на df\n",
    "NeuralProphet_df = NeuralProphet()\n",
    "NeuralProphet_df.set_plotting_backend(\"plotly-static\")\n",
    "metricsnp = NeuralProphet_df.fit(df,)"
   ]
  },
  {
   "cell_type": "code",
   "execution_count": null,
   "metadata": {},
   "outputs": [],
   "source": [
    "# Создание df с прогнозом\n",
    "future_np = NeuralProphet_df.make_future_dataframe(df, periods = pred_days_forecast-104, n_historic_predictions = True)\n",
    "forecast_np = NeuralProphet_df.predict(future_np)\n",
    "forecast_np.tail()"
   ]
  },
  {
   "cell_type": "code",
   "execution_count": null,
   "metadata": {},
   "outputs": [],
   "source": [
    "# Смотрим тренд, годовые и сезонные признаки\n",
    "NeuralProphet_df.plot_components(forecast_np, plotting_backend=\"matplotlib\")"
   ]
  },
  {
   "cell_type": "code",
   "execution_count": null,
   "metadata": {},
   "outputs": [],
   "source": [
    "# Смотрим график прогноза\n",
    "NeuralProphet_df.plot(forecast_np, plotting_backend=\"matplotlib\")"
   ]
  },
  {
   "cell_type": "markdown",
   "metadata": {},
   "source": [
    "# Сравнение прогнозов обученных моделей"
   ]
  },
  {
   "cell_type": "code",
   "execution_count": null,
   "metadata": {},
   "outputs": [],
   "source": [
    "# Сравнение прогнозов Prophet_bl, Prophet_best_params, NeuralProphet и фактический курс ставки рефинансирования ЦБ РФ\n",
    "fig, ax = plt.subplots(figsize=(14,5))\n",
    "fig.set_figheight(5)\n",
    "fig.set_figwidth(15)\n",
    "df.plot(kind='line',x='ds', y='y', color='orange', label='Fact_key_rate', ax=ax)\n",
    "forecast_bl.plot(kind='line', x='ds', y='yhat', color='red', label='Prophet_bl', ax=ax)\n",
    "forecast_ftm.plot(kind='line', x='ds', y='yhat', color='green', label='Prophet_best_params', ax=ax)\n",
    "forecast_np.plot(kind='line', x='ds', y='yhat1', color='blue', label='Neural_Prophet', ax=ax)\n",
    "plt.title('Сравнение прогнозов Prophet_bl, Prophet_best_params, NeuralProphet и фактический курс ставки рефинансирования ЦБ РФ')\n",
    "plt.show()"
   ]
  },
  {
   "cell_type": "markdown",
   "metadata": {},
   "source": [
    "Исходя из графиков, видно что Prophet с лучшими параметрами, лучше предсказал курс ключевой ставки ЦБ РФ."
   ]
  }
 ],
 "metadata": {
  "kernelspec": {
   "display_name": "Python 3",
   "language": "python",
   "name": "python3"
  },
  "language_info": {
   "codemirror_mode": {
    "name": "ipython",
    "version": 3
   },
   "file_extension": ".py",
   "mimetype": "text/x-python",
   "name": "python",
   "nbconvert_exporter": "python",
   "pygments_lexer": "ipython3",
   "version": "3.11.9"
  }
 },
 "nbformat": 4,
 "nbformat_minor": 2
}
