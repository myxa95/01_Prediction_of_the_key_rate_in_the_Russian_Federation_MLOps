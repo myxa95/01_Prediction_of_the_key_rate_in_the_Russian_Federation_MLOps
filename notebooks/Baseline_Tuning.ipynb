{
 "cells": [
  {
   "cell_type": "code",
   "execution_count": null,
   "metadata": {},
   "outputs": [],
   "source": [
    "import pandas as pd\n",
    "import plotly\n",
    "import matplotlib.pyplot as plt\n",
    "import seaborn as sns\n",
    "import numpy as np\n",
    "import holidays\n",
    "import yaml\n",
    "import optuna\n",
    "import json\n",
    "import datetime\n",
    "import logging\n",
    "\n",
    "from prophet import Prophet\n",
    "from prophet.diagnostics import cross_validation\n",
    "from prophet.serialize import model_to_json\n",
    "from sklearn.model_selection import ParameterGrid\n",
    "from tqdm import tqdm\n",
    "\n",
    "import sys\n",
    "import os\n",
    "\n",
    "config_path = r'../config/params.yml'\n",
    "config = yaml.load(open(config_path), Loader=yaml.FullLoader)\n",
    "\n",
    "model_path = config['train']['model_path']\n",
    "params_path = config['train']['params_path']\n",
    "data_path = config['train']['data_path']\n",
    "backend_path = config['train'][\"backend_path\"]\n",
    "sys.path.append(backend_path)\n",
    "from get_metrics import get_metrics"
   ]
  },
  {
   "cell_type": "code",
   "execution_count": null,
   "metadata": {},
   "outputs": [],
   "source": [
    "# Чтение DataFrame df в файл data/df.csv\n",
    "df = pd.read_csv(f'{data_path}/df.csv')\n",
    "\n",
    "# Чтение DataFrame df_train в файл data/df_train.csv\n",
    "df_train = pd.read_csv(f'{data_path}/df_train.csv')\n",
    "\n",
    "# Чтение DataFrame df_test в файл data/df_test.csv\n",
    "df_test = pd.read_csv(f'{data_path}/df_test.csv')"
   ]
  },
  {
   "cell_type": "code",
   "execution_count": null,
   "metadata": {},
   "outputs": [],
   "source": [
    "# Преобразование столбца ds в формат datetime\n",
    "df['ds'] = pd.to_datetime(df['ds'], format='%Y-%m-%d', dayfirst=True)\n",
    "df_train['ds'] = pd.to_datetime(df_train['ds'], format='%Y-%m-%d', dayfirst=True)\n",
    "df_test['ds'] = pd.to_datetime(df_test['ds'], format='%Y-%m-%d', dayfirst=True)"
   ]
  },
  {
   "cell_type": "code",
   "execution_count": null,
   "metadata": {},
   "outputs": [],
   "source": [
    "# Отображаем график с разделением train, test для наглядности\n",
    "fig, ax = plt.subplots(figsize = (10, 5))\n",
    "\n",
    "sns.set_theme(style=\"whitegrid\", palette=\"Accent\")\n",
    "\n",
    "fig.set_figheight(5)\n",
    "fig.set_figwidth(15)\n",
    "df_train.set_index('ds').plot(ax=ax, label= 'train', title='Визуальное разделение на тестовые и тренировочные данные')\n",
    "df_test.set_index('ds').plot(ax=ax, label='test')\n",
    "ax.axvline(df_train['ds'][-1:].values, ls='--', color='black')\n",
    "ax.legend(['df_train', 'df_test'])\n",
    "ax.set_ylabel('Значение ставки')\n",
    "ax.set_xlabel('Год')\n",
    "plt.show()"
   ]
  },
  {
   "cell_type": "code",
   "execution_count": null,
   "metadata": {},
   "outputs": [],
   "source": [
    "# Период, который надо отрезать и предсказать (проверка модели)\n",
    "pred_days = int(df.shape[0]*config['parcing']['pred_days'])"
   ]
  },
  {
   "cell_type": "markdown",
   "metadata": {},
   "source": [
    "# Baseline Prophet on df_train для проверки модели"
   ]
  },
  {
   "cell_type": "code",
   "execution_count": null,
   "metadata": {},
   "outputs": [],
   "source": [
    "# Обучение модели на train\n",
    "model_baseline = Prophet()\n",
    "model_baseline.fit(df_train)"
   ]
  },
  {
   "cell_type": "code",
   "execution_count": null,
   "metadata": {},
   "outputs": [],
   "source": [
    "# Создание df с прогнозом\n",
    "future = model_baseline.make_future_dataframe(periods=pred_days, freq='D')\n",
    "forecast = model_baseline.predict(future)\n",
    "forecast[['ds', 'yhat', 'yhat_lower', 'yhat_upper']].tail()"
   ]
  },
  {
   "cell_type": "code",
   "execution_count": null,
   "metadata": {},
   "outputs": [],
   "source": [
    "# Смотрим график прогноза\n",
    "fig, ax = plt.subplots(1)\n",
    "fig.set_figheight(5)\n",
    "fig.set_figwidth(15)\n",
    "fig = model_baseline.plot(forecast,ax=ax)\n",
    "plt.show()"
   ]
  },
  {
   "cell_type": "code",
   "execution_count": null,
   "metadata": {},
   "outputs": [],
   "source": [
    "# Смотрим тренд, годовые и сезонные признаки\n",
    "fig = model_baseline.plot_components(forecast)\n",
    "plt.show()"
   ]
  },
  {
   "cell_type": "markdown",
   "metadata": {},
   "source": [
    "## Сравнение фактов и прогнозов"
   ]
  },
  {
   "cell_type": "code",
   "execution_count": null,
   "metadata": {},
   "outputs": [],
   "source": [
    "# Создание df с прогнозом\n",
    "df_test_forecast = model_baseline.predict(df_test)\n",
    "df_test_forecast[['ds', 'yhat', 'yhat_lower', 'yhat_upper']].tail()"
   ]
  },
  {
   "cell_type": "code",
   "execution_count": null,
   "metadata": {},
   "outputs": [],
   "source": [
    "# Смотрим совпадение фактического курса с предсказанным курсом prophet baseline обученным на train\n",
    "fig, ax = plt.subplots(figsize= (10, 5))\n",
    "\n",
    "fig.set_figheight(5)\n",
    "fig.set_figwidth(15)\n",
    "predict = model_baseline.predict(df_test)\n",
    "fig = model_baseline.plot(predict, ax=ax)\n",
    "ax.scatter(df_test.ds, df_test['y'], color = 'g')\n",
    "ax.set_title('Прогноз ключевой ставки, Prophet Baseline')\n",
    "ax.set_ylabel('Значение ставки')\n",
    "ax.set_xlabel('Год')\n",
    "plt.show()"
   ]
  },
  {
   "cell_type": "code",
   "execution_count": null,
   "metadata": {},
   "outputs": [],
   "source": [
    "# Сравнение участка df_test с предсказанием prophet baseline\n",
    "fig, ax = plt.subplots(figsize=(14,5))\n",
    "fig.set_figheight(5)\n",
    "fig.set_figwidth(15)\n",
    "df_test.plot(kind='line',x='ds', y='y', color='red', label='Test', ax=ax)\n",
    "df_test_forecast.plot(kind='line',x='ds',y='yhat', color='green',label='Forecast', ax=ax)\n",
    "plt.title('Сравнение участка df_test с предсказанием prophet baseline')\n",
    "plt.show()"
   ]
  },
  {
   "cell_type": "code",
   "execution_count": null,
   "metadata": {},
   "outputs": [],
   "source": [
    "# Просмотр метрик модели обученной на train\n",
    "metrics = get_metrics(y_test=df_test['y'], y_pred=df_test_forecast['yhat'], name='Prophet_baseline')\n",
    "metrics"
   ]
  },
  {
   "cell_type": "markdown",
   "metadata": {},
   "source": [
    "Из приведенного выше графика мы видим, что существует разрыв в прогнозах и фактических данных. Поэтому нам нужно оптимизировать модель, добавив другие параметры, напрмиер, такие как праздники"
   ]
  },
  {
   "cell_type": "markdown",
   "metadata": {},
   "source": [
    "# Prophet with holidays"
   ]
  },
  {
   "cell_type": "code",
   "execution_count": null,
   "metadata": {},
   "outputs": [],
   "source": [
    "# Создаем df праздников в РФ начиная с 2013 по сегодня\n",
    "holiday = pd.DataFrame([])\n",
    "for date, name in sorted(holidays.Russia(years=[2013,2014,2015,2016,2017,2018,2019,2020,2021,2022,2023,2024]).items()):\n",
    "    new_row = pd.DataFrame({'ds': date, 'holiday': \"RU-Holidays\"}, index=[0])\n",
    "    holiday = pd.concat([holiday, new_row], ignore_index=True)  \n",
    "\n",
    "holiday['ds'] = pd.to_datetime(holiday['ds'], format='%Y-%m-%d', errors='ignore')"
   ]
  },
  {
   "cell_type": "code",
   "execution_count": null,
   "metadata": {},
   "outputs": [],
   "source": [
    "# Тренировка модели с праздниками\n",
    "model_with_holidays = Prophet(holidays=holiday)\n",
    "model_with_holidays.fit(df_train)"
   ]
  },
  {
   "cell_type": "code",
   "execution_count": null,
   "metadata": {},
   "outputs": [],
   "source": [
    "# Создание df с прогнозом\n",
    "future = model_with_holidays.make_future_dataframe(periods=pred_days, freq='D')\n",
    "forecast = model_with_holidays.predict(future)\n",
    "forecast[['ds', 'yhat', 'yhat_lower', 'yhat_upper']].tail()"
   ]
  },
  {
   "cell_type": "code",
   "execution_count": null,
   "metadata": {},
   "outputs": [],
   "source": [
    "# Смотрим график прогноза с праздниками\n",
    "fig, ax = plt.subplots(1)\n",
    "fig.set_figheight(5)\n",
    "fig.set_figwidth(15)\n",
    "fig = model_with_holidays.plot(forecast,ax=ax)\n",
    "plt.show()"
   ]
  },
  {
   "cell_type": "code",
   "execution_count": null,
   "metadata": {},
   "outputs": [],
   "source": [
    "# Смотрим тренд, годовые и сезонные признаки обученной модели с праздниками\n",
    "fig = model_with_holidays.plot_components(forecast)\n",
    "plt.show()"
   ]
  },
  {
   "cell_type": "markdown",
   "metadata": {},
   "source": [
    "## Сравнение фактов и прогнозов"
   ]
  },
  {
   "cell_type": "code",
   "execution_count": null,
   "metadata": {},
   "outputs": [],
   "source": [
    "# Создание df с прогнозом\n",
    "df_test_forecast_holiday = model_with_holidays.predict(df_test)\n",
    "df_test_forecast_holiday[['ds', 'yhat', 'yhat_lower', 'yhat_upper']].tail()"
   ]
  },
  {
   "cell_type": "code",
   "execution_count": null,
   "metadata": {},
   "outputs": [],
   "source": [
    "# Сравнение участка df_test с предсказанием prophet_with_holidays\n",
    "fig, ax = plt.subplots(figsize=(14,5))\n",
    "fig.set_figheight(5)\n",
    "fig.set_figwidth(15)\n",
    "df_test.plot(kind='line',x='ds', y='y', color='red', label='Test', ax=ax)\n",
    "df_test_forecast_holiday.plot(kind='line',x='ds',y='yhat', color='green',label='Forecast', ax=ax)\n",
    "plt.title('Сравнение участка df_test с предсказанием prophet с праздниками')\n",
    "plt.show()"
   ]
  },
  {
   "cell_type": "code",
   "execution_count": null,
   "metadata": {},
   "outputs": [],
   "source": [
    "# Сравниваем метрики после добавления в модель праздников \n",
    "metrics = pd.concat([metrics, get_metrics(y_test=df_test['y'], y_pred=df_test_forecast_holiday['yhat'], name='Prophet_with_holidays')])\n",
    "metrics"
   ]
  },
  {
   "cell_type": "markdown",
   "metadata": {},
   "source": [
    "Из метрик и графиков видим, что модель с праздниками показывает результаты немного изменились."
   ]
  },
  {
   "cell_type": "markdown",
   "metadata": {},
   "source": [
    "# Тюнинг тест модели"
   ]
  },
  {
   "cell_type": "code",
   "execution_count": null,
   "metadata": {},
   "outputs": [],
   "source": [
    "# Определите целевую функцию для оптимизации\n",
    "def objective(trial):\n",
    "    global best_score\n",
    "    # Гиперпараметры для настройки\n",
    "    changepoint_prior_scale = trial.suggest_float('changepoint_prior_scale', 0.001, 0.5)\n",
    "    seasonality_prior_scale = trial.suggest_float('seasonality_prior_scale', 0.01, 10)\n",
    "    holidays_prior_scale = trial.suggest_float('holidays_prior_scale', 0.01, 10)\n",
    "    seasonality_mode = trial.suggest_categorical('seasonality_mode', ['additive', 'multiplicative'])\n",
    "\n",
    "    # Создайте модель Prophet с гиперпараметрами\n",
    "    model = Prophet(changepoint_prior_scale=changepoint_prior_scale,\n",
    "                    seasonality_prior_scale=seasonality_prior_scale,\n",
    "                    holidays_prior_scale=holidays_prior_scale,\n",
    "                    seasonality_mode=seasonality_mode,\n",
    "                    )\n",
    "\n",
    "    # Обучите модель\n",
    "    model.fit(df_train)\n",
    "\n",
    "    # Выполните кросс-валидацию\n",
    "    cv_results = cross_validation(model, initial='730 days', period='180 days', horizon='180 days')\n",
    "\n",
    "    # Расчет MAE\n",
    "    mae = np.mean(np.abs(cv_results['y'] - cv_results['yhat']))\n",
    "\n",
    "    score = mae\n",
    "\n",
    "    # Добавьте условие для обрезки\n",
    "    if score > best_score:\n",
    "        best_score = score\n",
    "\n",
    "    if score < best_score * 0.99:  # обрезаем, если score меньше 99% от лучшего score\n",
    "        raise optuna.TrialPruned()\n",
    "\n",
    "    return -score  # Optuna минимизирует целевую функцию, поэтому использую -score\n",
    "\n",
    "# Проверьте, существует ли сохраненная модель и лучшие параметры\n",
    "best_model_file = os.path.join(model_path, 'prophet_best_model.json')\n",
    "best_params_file = os.path.join(params_path, 'prophet_best_params.json')\n",
    "if os.path.exists(best_model_file) and os.path.exists(best_params_file):\n",
    "    print('Модель и параметры уже сохранены.')\n",
    "    with open(best_model_file, 'r') as f:\n",
    "        prophet_best_model = json.load(f)\n",
    "    with open(best_params_file, 'r') as f:\n",
    "        prophet_best_params = json.load(f)\n",
    "    print('Лучшие параметры:', prophet_best_params)\n",
    "else:\n",
    "    print('Модель или параметры не сохранены, выполняем поиск гиперпараметров')\n",
    "    # Выполните поиск гиперпараметров с помощью Optuna\n",
    "    study = optuna.create_study(direction='minimize')\n",
    "    best_score = float('-inf')\n",
    "    logging.getLogger('cmdstanpy').setLevel(logging.ERROR)\n",
    "    study.optimize(objective, n_trials=config['train']['N_TRIALS'], timeout=config['train']['TIMEOUT'])\n",
    "    best_params = study.best_params\n",
    "    # Сохраните модель и лучшие параметры\n",
    "    with open(best_model_file, 'w') as f:\n",
    "        json.dump(best_params, f, indent=4)\n",
    "    with open(best_params_file, 'w') as f:\n",
    "        json.dump(study.best_params, f, indent=4)\n",
    "    print('Модель и параметры сохранены')\n",
    "    print('Лучшие параметры:', study.best_params)"
   ]
  },
  {
   "cell_type": "markdown",
   "metadata": {},
   "source": [
    "## Лучшие параметры после обучения по сетке"
   ]
  },
  {
   "cell_type": "code",
   "execution_count": null,
   "metadata": {},
   "outputs": [],
   "source": [
    "# Обучение модели на лучших параметрах\n",
    "final_test_model = Prophet(**study.best_params)\n",
    "final_test_model.fit(df_train)"
   ]
  },
  {
   "cell_type": "code",
   "execution_count": null,
   "metadata": {},
   "outputs": [],
   "source": [
    "# Создание df с прогнозом\n",
    "future = final_test_model.make_future_dataframe(periods=pred_days, freq='D')\n",
    "forecast = final_test_model.predict(future)\n",
    "forecast[['ds', 'yhat', 'yhat_lower', 'yhat_upper']].tail()"
   ]
  },
  {
   "cell_type": "code",
   "execution_count": null,
   "metadata": {},
   "outputs": [],
   "source": [
    "# Смотрим тренд, годовые и сезонные признаки\n",
    "fig = final_test_model.plot_components(forecast)"
   ]
  },
  {
   "cell_type": "code",
   "execution_count": null,
   "metadata": {},
   "outputs": [],
   "source": [
    "# Смотрим график прогноза после обучния на лучших параметрах\n",
    "fig, ax = plt.subplots(1)\n",
    "fig.set_figheight(5)\n",
    "fig.set_figwidth(15)\n",
    "fig = final_test_model.plot(forecast,ax=ax)\n",
    "plt.show()"
   ]
  },
  {
   "cell_type": "markdown",
   "metadata": {},
   "source": [
    "## Сравнение фактов и прогнозов"
   ]
  },
  {
   "cell_type": "code",
   "execution_count": null,
   "metadata": {},
   "outputs": [],
   "source": [
    "# Создание df с прогнозом\n",
    "df_test_forecast_final = final_test_model.predict(df_test)\n",
    "df_test_forecast_final[['ds', 'yhat', 'yhat_lower', 'yhat_upper']].tail()"
   ]
  },
  {
   "cell_type": "code",
   "execution_count": null,
   "metadata": {},
   "outputs": [],
   "source": [
    "# Сравнение участка df_test с предсказанием prophet grid\n",
    "fig, ax = plt.subplots(figsize=(14,5))\n",
    "fig.set_figheight(5)\n",
    "fig.set_figwidth(15)\n",
    "df_test.plot(kind='line',x='ds', y='y', color='red', label='Test', ax=ax)\n",
    "df_test_forecast_final.plot(kind='line',x='ds',y='yhat', color='green',label='Forecast', ax=ax)\n",
    "plt.title('Сравнение участка df_test с предсказанием prophet grid')\n",
    "plt.show()"
   ]
  },
  {
   "cell_type": "code",
   "execution_count": null,
   "metadata": {},
   "outputs": [],
   "source": [
    "# Сравниваем метрики после добавления в модель праздников \n",
    "metrics = pd.concat([metrics, get_metrics(y_test=df_test['y'], y_pred=df_test_forecast_final['yhat'], name='Prophet_best_params_optuna')])\n",
    "metrics"
   ]
  },
  {
   "cell_type": "markdown",
   "metadata": {},
   "source": [
    "# Обучение и прогнозирование курса ставки рефинансирования ЦБ РФ на полных данных"
   ]
  },
  {
   "cell_type": "markdown",
   "metadata": {},
   "source": [
    "# Prophet baseline on df"
   ]
  },
  {
   "cell_type": "code",
   "execution_count": null,
   "metadata": {},
   "outputs": [],
   "source": [
    "# Обучение модели на df\n",
    "prophet_bl = Prophet()\n",
    "prophet_bl.fit(df)"
   ]
  },
  {
   "cell_type": "code",
   "execution_count": null,
   "metadata": {},
   "outputs": [],
   "source": [
    "# Создание df с прогнозом\n",
    "future_bl = prophet_bl.make_future_dataframe(periods=config['train']['pred_days_forecast'], freq='D')\n",
    "forecast_bl = prophet_bl.predict(future_bl)\n",
    "forecast_bl[['ds', 'yhat', 'yhat_lower', 'yhat_upper']].tail()"
   ]
  },
  {
   "cell_type": "code",
   "execution_count": null,
   "metadata": {},
   "outputs": [],
   "source": [
    "# Смотрим график прогноза\n",
    "fig, ax = plt.subplots(1)\n",
    "fig.set_figheight(5)\n",
    "fig.set_figwidth(15)\n",
    "fig = prophet_bl.plot(forecast_bl,ax=ax)\n",
    "plt.show()"
   ]
  },
  {
   "cell_type": "code",
   "execution_count": null,
   "metadata": {},
   "outputs": [],
   "source": [
    "# Смотрим тренд, годовые и сезонные признаки\n",
    "fig = prophet_bl.plot_components(forecast_bl)\n",
    "plt.show()"
   ]
  },
  {
   "cell_type": "markdown",
   "metadata": {},
   "source": [
    "# Prophet best params on df"
   ]
  },
  {
   "cell_type": "code",
   "execution_count": null,
   "metadata": {},
   "outputs": [],
   "source": [
    "# Обучение модели на df\n",
    "final_test_model = Prophet(**study.best_params)\n",
    "final_test_model.fit(df)"
   ]
  },
  {
   "cell_type": "code",
   "execution_count": null,
   "metadata": {},
   "outputs": [],
   "source": [
    "# Создание df с прогнозом\n",
    "future_ftm = final_test_model.make_future_dataframe(periods=config['train']['pred_days_forecast'], freq='D')\n",
    "forecast_ftm = final_test_model.predict(future_ftm)\n",
    "forecast_ftm[['ds', 'yhat', 'yhat_lower', 'yhat_upper']].tail()"
   ]
  },
  {
   "cell_type": "code",
   "execution_count": null,
   "metadata": {},
   "outputs": [],
   "source": [
    "# Смотрим график прогноза\n",
    "fig, ax = plt.subplots(1)\n",
    "fig.set_figheight(5)\n",
    "fig.set_figwidth(15)\n",
    "fig = final_test_model.plot(forecast_ftm,ax=ax)\n",
    "plt.show()"
   ]
  },
  {
   "cell_type": "code",
   "execution_count": null,
   "metadata": {},
   "outputs": [],
   "source": [
    "# Смотрим тренд, годовые и сезонные признаки\n",
    "fig = prophet_bl.plot_components(forecast_ftm)\n",
    "plt.show()"
   ]
  },
  {
   "cell_type": "markdown",
   "metadata": {},
   "source": [
    "# Сравнение прогнозов обученных моделей"
   ]
  },
  {
   "cell_type": "code",
   "execution_count": null,
   "metadata": {},
   "outputs": [],
   "source": [
    "# Сравнение прогнозов Prophet_bl, prophet_best_model и фактический курс ставки рефинансирования ЦБ РФ\n",
    "fig, ax = plt.subplots(figsize=(14,5))\n",
    "fig.set_figheight(5)\n",
    "fig.set_figwidth(15)\n",
    "df.plot(kind='line',x='ds', y='y', color='orange', label='Fact_key_rate', ax=ax)\n",
    "forecast_bl.plot(kind='line', x='ds', y='yhat', color='red', label='Prophet_bl', ax=ax)\n",
    "forecast_ftm.plot(kind='line', x='ds', y='yhat', color='green', label='prophet_best_model', ax=ax)\n",
    "plt.title('Сравнение прогнозов Prophet_bl, prophet_best_model и фактический курс ставки рефинансирования ЦБ РФ')\n",
    "plt.show()"
   ]
  }
 ],
 "metadata": {
  "kernelspec": {
   "display_name": "Python 3",
   "language": "python",
   "name": "python3"
  },
  "language_info": {
   "codemirror_mode": {
    "name": "ipython",
    "version": 3
   },
   "file_extension": ".py",
   "mimetype": "text/x-python",
   "name": "python",
   "nbconvert_exporter": "python",
   "pygments_lexer": "ipython3",
   "version": "3.11.9"
  }
 },
 "nbformat": 4,
 "nbformat_minor": 2
}
